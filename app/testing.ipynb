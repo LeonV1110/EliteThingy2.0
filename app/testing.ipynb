{
 "cells": [
  {
   "cell_type": "markdown",
   "metadata": {},
   "source": [
    "# Testing notebook for before visuals\n",
    "\n",
    "# How to use:\n",
    "\n",
    "1. Fill in all the data on your current body.\n",
    "2. Run the first cell\n",
    "3. Run any of the next 3 cells to get the possible biologicals in the corresponding order"
   ]
  },
  {
   "cell_type": "code",
   "execution_count": null,
   "metadata": {},
   "outputs": [
    {
     "name": "stdout",
     "output_type": "stream",
     "text": [
      "{'MainType': 'Bacterium', 'SubType': 'Alcyoneum', 'Value': 10, 'StarClasses': ['Any'], 'PlanetTypes': ['Rocky', 'HighMetal'], 'AtmosComps': ['NH3'], 'VolcanismTypes': ['none'], 'minAtmosPressure': 0.0009, 'maxAtmosPressure': 0.0471, 'minGravity': 0.04, 'maxGravity': 0.38, 'minTemp': 57, 'maxTemp': 187, 'likelyhood': 16}\n",
      "{'MainType': 'Fonticulua', 'SubType': 'Campestris', 'Value': 1000000, 'StarClasses': ['Any'], 'PlanetTypes': ['Ice', 'RockIce'], 'AtmosComps': ['Ar'], 'VolcanismTypes': ['Any'], 'minAtmosPressure': 0.000986953, 'maxAtmosPressure': 0.098163773, 'minGravity': 0.03, 'maxGravity': 0.28, 'minTemp': 50, 'maxTemp': 159, 'likelyhood': 0}\n",
      "{'MainType': 'Fonticulua', 'SubType': 'Digitos', 'Value': 1804100, 'StarClasses': ['Any'], 'PlanetTypes': ['Ice', 'RockIce'], 'AtmosComps': ['CH4'], 'VolcanismTypes': ['Low'], 'minAtmosPressure': 0.030457377, 'maxAtmosPressure': 0.098682583, 'minGravity': 0.03, 'maxGravity': 0.06, 'minTemp': 83, 'maxTemp': 109, 'likelyhood': 0}\n",
      "{'MainType': 'Fonticulua', 'SubType': 'Fluctus', 'Value': 20000000, 'StarClasses': ['Any'], 'PlanetTypes': ['Ice'], 'AtmosComps': ['O'], 'VolcanismTypes': ['Any'], 'minAtmosPressure': 0.012485667, 'maxAtmosPressure': 0.08009757, 'minGravity': 0.24, 'maxGravity': 0.27, 'minTemp': 143, 'maxTemp': 200, 'likelyhood': 0}\n",
      "{'MainType': 'Fonticulua', 'SubType': 'Lapida', 'Value': 3111000, 'StarClasses': ['Any'], 'PlanetTypes': ['Ice', 'RockIce'], 'AtmosComps': ['Ni'], 'VolcanismTypes': ['Any'], 'minAtmosPressure': 0.000987147, 'maxAtmosPressure': 0.098641641, 'minGravity': 0.04, 'maxGravity': 0.28, 'minTemp': 50, 'maxTemp': 90, 'likelyhood': 0}\n",
      "{'MainType': 'Fonticulua', 'SubType': 'Segmentatus', 'Value': 19010800, 'StarClasses': ['Any'], 'PlanetTypes': ['Ice'], 'AtmosComps': ['Ne'], 'VolcanismTypes': ['Any'], 'minAtmosPressure': 0.000989261, 'maxAtmosPressure': 0.040691714, 'minGravity': 0.25, 'maxGravity': 0.28, 'minTemp': 50, 'maxTemp': 75, 'likelyhood': 0}\n",
      "{'MainType': 'Fonticulua', 'SubType': 'Upupam', 'Value': 5727600, 'StarClasses': ['Any'], 'PlanetTypes': ['Ice', 'RockIce'], 'AtmosComps': ['Ar'], 'VolcanismTypes': ['Any'], 'minAtmosPressure': 0.018480219, 'maxAtmosPressure': 0.098655982, 'minGravity': 0.2, 'maxGravity': 0.3, 'minTemp': 60, 'maxTemp': 125, 'likelyhood': 0}\n"
     ]
    }
   ],
   "source": [
    "from input import Input\n",
    "from body import Body\n",
    "from enums import Starclass, PlanetType, AtmossphericComposition, VolcanismType, BioType\n",
    "from main import get_least_valuable_biologicals, get_most_valuable_biologicals, get_most_likely_biologicals\n",
    "\n",
    "#### Fill out ####\n",
    "filePath = \"biologicals\"\n",
    "\n",
    "# Not needed for algorithm\n",
    "name = ''\n",
    "id = 0\n",
    "systemName = ''\n",
    "systemId = 0\n",
    "\n",
    "# Actually matters\n",
    "bioCount = 5\n",
    "starclass = Starclass.A\n",
    "planetType = PlanetType.Rocky\n",
    "atmossphericComposition = AtmossphericComposition.NH3\n",
    "volcamismType = VolcanismType.none # doesn't work as intended just yet\n",
    "atmossphericPressure = 0.01\n",
    "gravity = 0.1\n",
    "minTemp = 50\n",
    "maxTemp = 200\n",
    "\n",
    "body_to_check = Body(name, id, systemName, systemId, bioCount, starclass, planetType, atmossphericComposition, volcamismType, atmossphericPressure, gravity, minTemp, maxTemp)\n",
    "\n",
    "#### Leave alone ####\n",
    "\n",
    "all_bio = Input.read_biologicals(filePath) # list[Biological]\n",
    "\n",
    "\n",
    "most_value = get_most_valuable_biologicals(body_to_check, all_bio)\n",
    "least_value = get_least_valuable_biologicals(body_to_check, all_bio)\n",
    "most_likely = get_most_likely_biologicals(body_to_check, all_bio)"
   ]
  },
  {
   "cell_type": "markdown",
   "metadata": {},
   "source": [
    "# Most Valuable"
   ]
  },
  {
   "cell_type": "code",
   "execution_count": 5,
   "metadata": {},
   "outputs": [
    {
     "name": "stdout",
     "output_type": "stream",
     "text": [
      "Fonticulua Fluctus at a value of: 20000000\n",
      "Bacterium Alcyoneum at a value of: 10\n",
      "\n",
      "for a total value of 20000010\n"
     ]
    }
   ],
   "source": [
    "running_total = 0\n",
    "counter = body_to_check.biologicalCount\n",
    "for bio in most_value:\n",
    "    if counter > 0:\n",
    "        running_total += bio.value\n",
    "    counter -= 1\n",
    "    print(f'{bio.mainType._name_} {bio.subType} at a value of: {bio.value}')\n",
    "print()\n",
    "print(f'for a total value of {running_total}')"
   ]
  },
  {
   "cell_type": "markdown",
   "metadata": {},
   "source": [
    "# Least Valuable"
   ]
  },
  {
   "cell_type": "code",
   "execution_count": null,
   "metadata": {},
   "outputs": [],
   "source": [
    "running_total = 0\n",
    "counter = body_to_check.biologicalCount\n",
    "for bio in least_value:\n",
    "    if counter > 0:\n",
    "        running_total += bio.value\n",
    "    counter -= 1\n",
    "    print(f'{bio.mainType._name_} {bio.subType} at a value of: {bio.value}')\n",
    "print()\n",
    "print(f'for a total value of {running_total}')"
   ]
  },
  {
   "cell_type": "markdown",
   "metadata": {},
   "source": [
    "# Most likely\n",
    "Very flawed and unlikely to actually predict the most likely one"
   ]
  },
  {
   "cell_type": "code",
   "execution_count": null,
   "metadata": {},
   "outputs": [],
   "source": [
    "running_total = 0\n",
    "counter = body_to_check.biologicalCount\n",
    "for bio in most_likely:\n",
    "    if counter > 0:\n",
    "        running_total += bio.value\n",
    "    counter -= 1\n",
    "    print(f'{bio.mainType._name_} {bio.subType} at a value of: {bio.value}')\n",
    "print()\n",
    "print(f'for a total value of {running_total}')"
   ]
  }
 ],
 "metadata": {
  "kernelspec": {
   "display_name": "Python 3",
   "language": "python",
   "name": "python3"
  },
  "language_info": {
   "codemirror_mode": {
    "name": "ipython",
    "version": 3
   },
   "file_extension": ".py",
   "mimetype": "text/x-python",
   "name": "python",
   "nbconvert_exporter": "python",
   "pygments_lexer": "ipython3",
   "version": "3.13.0"
  }
 },
 "nbformat": 4,
 "nbformat_minor": 2
}
