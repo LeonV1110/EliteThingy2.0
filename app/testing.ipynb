{
 "cells": [
  {
   "cell_type": "code",
   "execution_count": 8,
   "metadata": {},
   "outputs": [
    {
     "name": "stdout",
     "output_type": "stream",
     "text": [
      "Bacterium\n"
     ]
    },
    {
     "data": {
      "text/plain": [
       "'{\"MainType\":  \"Bacterium\", \"SubType\": \"Alcyoneum\", \"Value\": 10, \"StarClasses\": [\"Any\"], \"PlanetTypes\": [\"Rocky\", \"HighMetal\"], \"AtmosComps\": [\"Ammonia\"], \"VolcamismTypes\": [\"none\"], \"minAtmosPressure\": 0.0009, \"maxAtmosPressure\": 0.0471, \"minGravity\": 0.04, \"maxGravity\": 0.38, \"minTemp\": 57, \"maxTemp\": 187, \"likelyhood\": 16}'"
      ]
     },
     "execution_count": 8,
     "metadata": {},
     "output_type": "execute_result"
    }
   ],
   "source": [
    "from biological import Biological, jsonBiological\n",
    "from enums import Starclass, PlanetType, AtmossphericComposition, VolcamismType, BioType\n",
    "import json\n",
    "Alcyoneum = Biological(BioType.Bacterium, 'Alcyoneum', 10, [Starclass.Any], [PlanetType.Rocky, PlanetType.HighMetal], [AtmossphericComposition.Ammonia], [VolcamismType.none], 0.0009, 0.0471, 0.04, 0.38, 57, 187, 16)\n",
    "jsonBact = json.loads(Alcyoneum.to_json())\n",
    "\n",
    "new = jsonBiological(jsonBact)\n",
    "new.to_json()\n"
   ]
  },
  {
   "cell_type": "markdown",
   "metadata": {},
   "source": [
    "# Testing notebook for before visuals"
   ]
  },
  {
   "cell_type": "code",
   "execution_count": null,
   "metadata": {},
   "outputs": [],
   "source": [
    "from input import Input\n",
    "from body import Body\n",
    "from enums import Starclass, PlanetType, AtmossphericComposition, VolcamismType, BioType\n",
    "from main import get_least_valuable_biologicals, get_most_valuable_biologicals, get_most_likely_biologicals\n",
    "\n",
    "## Fill out\n",
    "filePath = 'TODO'\n",
    "body_to_check = Body('idk', 0, 'idc', 20, 5, Starclass.A, PlanetType.Rocky, AtmossphericComposition.none, VolcamismType.none, 0.01, 0.1, 50, 200)\n",
    "\n",
    "## Leave alone\n",
    "\n",
    "all_bio = Input.read_biologicals(filePath)\n",
    "\n",
    "most_likely = get_most_likely_biologicals(body_to_check, all_bio)\n",
    "most_value = get_most_valuable_biologicals(body_to_check, all_bio)\n",
    "least_value = get_least_valuable_biologicals(body_to_check, all_bio)"
   ]
  },
  {
   "cell_type": "markdown",
   "metadata": {},
   "source": [
    "# Most likely"
   ]
  },
  {
   "cell_type": "code",
   "execution_count": null,
   "metadata": {},
   "outputs": [],
   "source": [
    "running_total = 0\n",
    "counter = body_to_check.biologicalCount\n",
    "for bio in most_likely:\n",
    "    if counter > 0:\n",
    "        running_total += bio.value\n",
    "    counter -= 1\n",
    "    print(f'{bio.mainType} {bio.subType} with likelyhood: {bio.likelyhood}')\n",
    "print()\n",
    "print(f'for a total value of {running_total}')"
   ]
  },
  {
   "cell_type": "markdown",
   "metadata": {},
   "source": [
    "# Most Valuable"
   ]
  },
  {
   "cell_type": "code",
   "execution_count": null,
   "metadata": {},
   "outputs": [],
   "source": [
    "running_total = 0\n",
    "counter = body_to_check.biologicalCount\n",
    "for bio in most_value:\n",
    "    if counter > 0:\n",
    "        running_total += bio.value\n",
    "    counter -= 1\n",
    "    print(f'{bio.mainType} {bio.subType} with likelyhood: {bio.likelyhood}')\n",
    "print()\n",
    "print(f'for a total value of {running_total}')"
   ]
  },
  {
   "cell_type": "markdown",
   "metadata": {},
   "source": [
    "# Least Valuable"
   ]
  },
  {
   "cell_type": "code",
   "execution_count": null,
   "metadata": {},
   "outputs": [],
   "source": [
    "running_total = 0\n",
    "counter = body_to_check.biologicalCount\n",
    "for bio in least_value:\n",
    "    if counter > 0:\n",
    "        running_total += bio.value\n",
    "    counter -= 1\n",
    "    print(f'{bio.mainType} {bio.subType} with likelyhood: {bio.likelyhood}')\n",
    "print()\n",
    "print(f'for a total value of {running_total}')"
   ]
  }
 ],
 "metadata": {
  "kernelspec": {
   "display_name": "Python 3",
   "language": "python",
   "name": "python3"
  },
  "language_info": {
   "codemirror_mode": {
    "name": "ipython",
    "version": 3
   },
   "file_extension": ".py",
   "mimetype": "text/x-python",
   "name": "python",
   "nbconvert_exporter": "python",
   "pygments_lexer": "ipython3",
   "version": "3.13.0"
  }
 },
 "nbformat": 4,
 "nbformat_minor": 2
}
