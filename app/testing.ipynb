{
 "cells": [
  {
   "cell_type": "markdown",
   "metadata": {},
   "source": [
    "# Testing notebook for before visuals\n",
    "\n",
    "# How to use:\n",
    "\n",
    "1. Fill in all the data on your current body.\n",
    "2. Run the first cell\n",
    "3. Run any of the next 3 cells to get the possible biologicals in the corresponding order"
   ]
  },
  {
   "cell_type": "code",
   "execution_count": null,
   "metadata": {},
   "outputs": [],
   "source": [
    "from input import Input\n",
    "from body import Body\n",
    "from enums import Starclass, PlanetType, AtmossphericComposition, VolcamismType, BioType\n",
    "from main import get_least_valuable_biologicals, get_most_valuable_biologicals, get_most_likely_biologicals\n",
    "\n",
    "#### Fill out ####\n",
    "filePath = \"biologicals.json\"\n",
    "\n",
    "# Not needed for algorithm\n",
    "name = ''\n",
    "id = 0\n",
    "systemName = ''\n",
    "systemId = 0\n",
    "\n",
    "# Actually matters\n",
    "bioCount = 5\n",
    "starclass = Starclass.A\n",
    "planetType = PlanetType.Rocky\n",
    "atmossphericComposition = AtmossphericComposition.Ammonia\n",
    "volcamismType = VolcamismType.none\n",
    "atmossphericPressure = 0.01\n",
    "gravity = 0.1\n",
    "minTemp = 50\n",
    "maxTemp = 200\n",
    "\n",
    "body_to_check = Body(name, id, systemName, systemId, starclass, planetType, atmossphericComposition, volcamismType, atmossphericPressure, gravity, minTemp, maxTemp)\n",
    "\n",
    "#### Leave alone ####\n",
    "\n",
    "all_bio = Input.read_biologicals(filePath) # list[Biological]\n",
    "\n",
    "\n",
    "most_value = get_most_valuable_biologicals(body_to_check, all_bio)\n",
    "least_value = get_least_valuable_biologicals(body_to_check, all_bio)\n",
    "most_likely = get_most_likely_biologicals(body_to_check, all_bio)"
   ]
  },
  {
   "cell_type": "markdown",
   "metadata": {},
   "source": [
    "# Most Valuable"
   ]
  },
  {
   "cell_type": "code",
   "execution_count": null,
   "metadata": {},
   "outputs": [],
   "source": [
    "running_total = 0\n",
    "counter = body_to_check.biologicalCount\n",
    "for bio in most_value:\n",
    "    if counter > 0:\n",
    "        running_total += bio.value\n",
    "    counter -= 1\n",
    "    print(f'{bio.mainType._name_} {bio.subType} with likelyhood: {bio.likelyhood}')\n",
    "print()\n",
    "print(f'for a total value of {running_total}')"
   ]
  },
  {
   "cell_type": "markdown",
   "metadata": {},
   "source": [
    "# Least Valuable"
   ]
  },
  {
   "cell_type": "code",
   "execution_count": null,
   "metadata": {},
   "outputs": [],
   "source": [
    "running_total = 0\n",
    "counter = body_to_check.biologicalCount\n",
    "for bio in least_value:\n",
    "    if counter > 0:\n",
    "        running_total += bio.value\n",
    "    counter -= 1\n",
    "    print(f'{bio.mainType._name_} {bio.subType} with likelyhood: {bio.likelyhood}')\n",
    "print()\n",
    "print(f'for a total value of {running_total}')"
   ]
  },
  {
   "cell_type": "markdown",
   "metadata": {},
   "source": [
    "# Most likely\n",
    "Very flawed and unlikely to actually predict the most likely one"
   ]
  },
  {
   "cell_type": "code",
   "execution_count": null,
   "metadata": {},
   "outputs": [],
   "source": [
    "running_total = 0\n",
    "counter = body_to_check.biologicalCount\n",
    "for bio in most_likely:\n",
    "    if counter > 0:\n",
    "        running_total += bio.value\n",
    "    counter -= 1\n",
    "    print(f'{bio.mainType._name_} {bio.subType} with likelyhood: {bio.likelyhood}')\n",
    "print()\n",
    "print(f'for a total value of {running_total}')"
   ]
  }
 ],
 "metadata": {
  "kernelspec": {
   "display_name": "Python 3",
   "language": "python",
   "name": "python3"
  },
  "language_info": {
   "codemirror_mode": {
    "name": "ipython",
    "version": 3
   },
   "file_extension": ".py",
   "mimetype": "text/x-python",
   "name": "python",
   "nbconvert_exporter": "python",
   "pygments_lexer": "ipython3",
   "version": "3.13.0"
  }
 },
 "nbformat": 4,
 "nbformat_minor": 2
}
