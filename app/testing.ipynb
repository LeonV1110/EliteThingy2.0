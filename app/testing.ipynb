{
 "cells": [
  {
   "cell_type": "markdown",
   "metadata": {},
   "source": [
    "# Testing notebook for before visuals\n",
    "\n",
    "# How to use:\n",
    "\n",
    "1. Fill in all the data on your current body.\n",
    "2. Run the first cell\n",
    "3. Run any of the next 3 cells to get the possible biologicals in the corresponding order"
   ]
  },
  {
   "cell_type": "code",
   "execution_count": null,
   "metadata": {},
   "outputs": [],
   "source": [
    "from input import Input\n",
    "from body import Body\n",
    "from enums import Starclass, PlanetType, AtmossphericComposition, VolcanismType, BioType\n",
    "from main import get_least_valuable_biologicals, get_most_valuable_biologicals, get_most_likely_biologicals\n",
    "\n",
    "#### Fill out ####\n",
    "filePath = \"biologicals\"\n",
    "\n",
    "# Not needed for algorithm\n",
    "name = ''\n",
    "id = 0\n",
    "systemName = ''\n",
    "systemId = 0\n",
    "\n",
    "# Actually matters\n",
    "bioCount = 2\n",
    "starclass = Starclass.M\n",
    "planetType = PlanetType.Ice\n",
    "atmossphericComposition = AtmossphericComposition.Ar\n",
    "volcamismType = VolcanismType.none # doesn't work as intended just yet\n",
    "atmossphericPressure = 0.004\n",
    "gravity = 0.05\n",
    "minTemp = 39\n",
    "maxTemp = 75\n",
    "\n",
    "body_to_check = Body(name, id, systemName, systemId, bioCount, starclass, planetType, atmossphericComposition, volcamismType, atmossphericPressure, gravity, minTemp, maxTemp)\n",
    "\n",
    "#### Leave alone ####\n",
    "\n",
    "all_bio = Input.read_biologicals(filePath) # list[Biological]\n",
    "\n",
    "\n",
    "most_value = get_most_valuable_biologicals(body_to_check, all_bio)\n",
    "least_value = get_least_valuable_biologicals(body_to_check, all_bio)\n",
    "most_likely = get_most_likely_biologicals(body_to_check, all_bio)"
   ]
  },
  {
   "cell_type": "markdown",
   "metadata": {},
   "source": [
    "# Most Valuable"
   ]
  },
  {
   "cell_type": "code",
   "execution_count": 18,
   "metadata": {},
   "outputs": [
    {
     "name": "stdout",
     "output_type": "stream",
     "text": [
      "Stratum Tectonicas at a value of: 19010800\n",
      "Aleoida Laminiae at a value of: 3385200\n",
      "Cactoida Peperatis at a value of: 2483600\n",
      "Osseus Spiralis at a value of: 2404700\n",
      "Bacterium Tela at a value of: 1949000\n",
      "Tussock Divisa at a value of: 1766600\n",
      "Fungoida Setisis at a value of: 1670100\n",
      "Frutexa Metallicum at a value of: 1632500\n",
      "\n",
      "for a total value of 22396000\n"
     ]
    }
   ],
   "source": [
    "running_total = 0\n",
    "counter = body_to_check.biologicalCount\n",
    "for bio in most_value:\n",
    "    if counter > 0:\n",
    "        running_total += bio.value\n",
    "    counter -= 1\n",
    "    print(f'{bio.mainType._name_} {bio.subType} at a value of: {bio.value}')\n",
    "print()\n",
    "print(f'for a total value of {running_total}')"
   ]
  },
  {
   "cell_type": "markdown",
   "metadata": {},
   "source": [
    "# Least Valuable"
   ]
  },
  {
   "cell_type": "code",
   "execution_count": 19,
   "metadata": {},
   "outputs": [
    {
     "name": "stdout",
     "output_type": "stream",
     "text": [
      "Frutexa Metallicum at a value of: 1632500\n",
      "Bacterium Alcyoneum at a value of: 1658500\n",
      "Fungoida Setisis at a value of: 1670100\n",
      "Tussock Cultro at a value of: 1766600\n",
      "Osseus Spiralis at a value of: 2404700\n",
      "Cactoida Lapis at a value of: 2483600\n",
      "Aleoida Spica at a value of: 3385200\n",
      "Stratum Tectonicas at a value of: 19010800\n",
      "\n",
      "for a total value of 3291000\n"
     ]
    }
   ],
   "source": [
    "running_total = 0\n",
    "counter = body_to_check.biologicalCount\n",
    "for bio in least_value:\n",
    "    if counter > 0:\n",
    "        running_total += bio.value\n",
    "    counter -= 1\n",
    "    print(f'{bio.mainType._name_} {bio.subType} at a value of: {bio.value}')\n",
    "print()\n",
    "print(f'for a total value of {running_total}')"
   ]
  },
  {
   "cell_type": "markdown",
   "metadata": {},
   "source": [
    "# Most likely\n",
    "Very flawed and unlikely to actually predict the most likely one"
   ]
  },
  {
   "cell_type": "code",
   "execution_count": 14,
   "metadata": {},
   "outputs": [
    {
     "name": "stdout",
     "output_type": "stream",
     "text": [
      "Concha Renibus at a value of: 4572400\n",
      "Tussock Pennatis at a value of: 1000000\n",
      "Fungoida Gelata at a value of: 3330300\n",
      "Osseus Fractus at a value of: 4027800\n",
      "Cactoida Cortexum at a value of: 3667600\n",
      "Bacterium Tela at a value of: 1949000\n",
      "Stratum Tectonicas at a value of: 19010800\n",
      "Recepta Deltahedronix at a value of: 16202800\n",
      "Frutexa Metallicum at a value of: 1632500\n",
      "\n",
      "for a total value of 12930500\n"
     ]
    }
   ],
   "source": [
    "running_total = 0\n",
    "counter = body_to_check.biologicalCount\n",
    "for bio in most_likely:\n",
    "    if counter > 0:\n",
    "        running_total += bio.value\n",
    "    counter -= 1\n",
    "    print(f'{bio.mainType._name_} {bio.subType} at a value of: {bio.value}')\n",
    "print()\n",
    "print(f'for a total value of {running_total}')"
   ]
  }
 ],
 "metadata": {
  "kernelspec": {
   "display_name": "Python 3",
   "language": "python",
   "name": "python3"
  },
  "language_info": {
   "codemirror_mode": {
    "name": "ipython",
    "version": 3
   },
   "file_extension": ".py",
   "mimetype": "text/x-python",
   "name": "python",
   "nbconvert_exporter": "python",
   "pygments_lexer": "ipython3",
   "version": "3.13.0"
  }
 },
 "nbformat": 4,
 "nbformat_minor": 2
}
