{
 "cells": [
  {
   "cell_type": "markdown",
   "metadata": {},
   "source": [
    "# Testing notebook for before visuals\n",
    "\n",
    "# How to use:\n",
    "\n",
    "1. Fill in all the data on your current body.\n",
    "2. Run the first cell\n",
    "3. Run any of the next 3 cells to get the possible biologicals in the corresponding order"
   ]
  },
  {
   "cell_type": "code",
   "execution_count": 1,
   "metadata": {},
   "outputs": [
    {
     "name": "stdout",
     "output_type": "stream",
     "text": [
      "{'MainType': 'Aleoida', 'SubType': 'Laminiae', 'Value': 3385200, 'StarClasses': ['Any'], 'PlanetTypes': ['HMC', 'Rock'], 'AtmosComps': ['NH3'], 'VolcanismTypes': ['Any'], 'minAtmosPressure': 0.000987008, 'maxAtmosPressure': 0.013336214, 'minGravity': 0.04, 'maxGravity': 0.28, 'minTemp': 152, 'maxTemp': 176.66, 'likelyhood': 0}\n",
      "{'MainType': 'Aleoida', 'SubType': 'Spica', 'Value': 3385200, 'StarClasses': ['Any'], 'PlanetTypes': ['HMC', 'Rock'], 'AtmosComps': ['NH3'], 'VolcanismTypes': ['Any'], 'minAtmosPressure': 0.000986924, 'maxAtmosPressure': 0.013003161, 'minGravity': 0.04, 'maxGravity': 0.28, 'minTemp': 170, 'maxTemp': 176.47, 'likelyhood': 0}\n",
      "{'MainType': 'Bacterium', 'SubType': 'Alcyoneum', 'Value': 1658500, 'StarClasses': ['Any'], 'PlanetTypes': ['HMC', 'Rock'], 'AtmosComps': ['NH3'], 'VolcanismTypes': ['Any'], 'minAtmosPressure': 0.000986924, 'maxAtmosPressure': 0.047130477, 'minGravity': 0.04, 'maxGravity': 0.38, 'minTemp': 57.61, 'maxTemp': 187.16, 'likelyhood': 0}\n",
      "{'MainType': 'Bacterium', 'SubType': 'Aurasus', 'Value': 1000000, 'StarClasses': ['Any'], 'PlanetTypes': ['HMC', 'Rock'], 'AtmosComps': ['CO2'], 'VolcanismTypes': ['Any'], 'minAtmosPressure': 0.000987629, 'maxAtmosPressure': 0.098686236, 'minGravity': 0.04, 'maxGravity': 0.61, 'minTemp': 115.22, 'maxTemp': 399.83, 'likelyhood': 0}\n",
      "{'MainType': 'Bacterium', 'SubType': 'Informem', 'Value': 8418000, 'StarClasses': ['Any'], 'PlanetTypes': ['HMC', 'Ice', 'Rock', 'RockIce'], 'AtmosComps': ['Ni'], 'VolcanismTypes': ['Any'], 'minAtmosPressure': 0.000987147, 'maxAtmosPressure': 0.098674699, 'minGravity': 0.04, 'maxGravity': 0.59, 'minTemp': 43.6, 'maxTemp': 167.28, 'likelyhood': 0}\n",
      "{'MainType': 'Bacterium', 'SubType': 'Volu', 'Value': 7774700, 'StarClasses': ['Any'], 'PlanetTypes': ['HMC', 'Ice', 'Rock', 'RockIce'], 'AtmosComps': ['O'], 'VolcanismTypes': ['Any'], 'minAtmosPressure': 0.004755793, 'maxAtmosPressure': 0.098579332, 'minGravity': 0.05, 'maxGravity': 0.6, 'minTemp': 143.8, 'maxTemp': 245.82, 'likelyhood': 0}\n",
      "{'MainType': 'Fonticulua', 'SubType': 'Campestris', 'Value': 1000000, 'StarClasses': ['Any'], 'PlanetTypes': ['Ice', 'RockIce'], 'AtmosComps': ['Ar'], 'VolcanismTypes': ['Any'], 'minAtmosPressure': 0.000986953, 'maxAtmosPressure': 0.098163773, 'minGravity': 0.03, 'maxGravity': 0.28, 'minTemp': 50, 'maxTemp': 159, 'likelyhood': 0}\n",
      "{'MainType': 'Fonticulua', 'SubType': 'Fluctus', 'Value': 20000000, 'StarClasses': ['Any'], 'PlanetTypes': ['Ice'], 'AtmosComps': ['O'], 'VolcanismTypes': ['Any'], 'minAtmosPressure': 0.012485667, 'maxAtmosPressure': 0.08009757, 'minGravity': 0.24, 'maxGravity': 0.27, 'minTemp': 143, 'maxTemp': 200, 'likelyhood': 0}\n",
      "{'MainType': 'Fonticulua', 'SubType': 'Lapida', 'Value': 3111000, 'StarClasses': ['Any'], 'PlanetTypes': ['Ice', 'RockIce'], 'AtmosComps': ['Ni'], 'VolcanismTypes': ['Any'], 'minAtmosPressure': 0.000987147, 'maxAtmosPressure': 0.098641641, 'minGravity': 0.04, 'maxGravity': 0.28, 'minTemp': 50, 'maxTemp': 90, 'likelyhood': 0}\n"
     ]
    },
    {
     "ename": "KeyError",
     "evalue": "'Ae'",
     "output_type": "error",
     "traceback": [
      "\u001b[1;31m---------------------------------------------------------------------------\u001b[0m",
      "\u001b[1;31mKeyError\u001b[0m                                  Traceback (most recent call last)",
      "Cell \u001b[1;32mIn[1], line 30\u001b[0m\n\u001b[0;32m     26\u001b[0m body_to_check \u001b[38;5;241m=\u001b[39m Body(name, \u001b[38;5;28mid\u001b[39m, systemName, systemId, bioCount, starclass, planetType, atmossphericComposition, volcamismType, atmossphericPressure, gravity, minTemp, maxTemp)\n\u001b[0;32m     28\u001b[0m \u001b[38;5;66;03m#### Leave alone ####\u001b[39;00m\n\u001b[1;32m---> 30\u001b[0m all_bio \u001b[38;5;241m=\u001b[39m \u001b[43mInput\u001b[49m\u001b[38;5;241;43m.\u001b[39;49m\u001b[43mread_biologicals\u001b[49m\u001b[43m(\u001b[49m\u001b[43mfilePath\u001b[49m\u001b[43m)\u001b[49m \u001b[38;5;66;03m# list[Biological]\u001b[39;00m\n\u001b[0;32m     33\u001b[0m most_value \u001b[38;5;241m=\u001b[39m get_most_valuable_biologicals(body_to_check, all_bio)\n\u001b[0;32m     34\u001b[0m least_value \u001b[38;5;241m=\u001b[39m get_least_valuable_biologicals(body_to_check, all_bio)\n",
      "File \u001b[1;32mc:\\Users\\Leonl\\Documents\\code projects\\EliteThingy2.0\\app\\input.py:12\u001b[0m, in \u001b[0;36mInput.read_biologicals\u001b[1;34m(filePath)\u001b[0m\n\u001b[0;32m     10\u001b[0m \u001b[38;5;28;01mtry\u001b[39;00m:\n\u001b[0;32m     11\u001b[0m     biological \u001b[38;5;241m=\u001b[39m json\u001b[38;5;241m.\u001b[39mloads(line\u001b[38;5;241m.\u001b[39mstrip())\n\u001b[1;32m---> 12\u001b[0m     res\u001b[38;5;241m.\u001b[39mappend(\u001b[43mjsonBiological\u001b[49m\u001b[43m(\u001b[49m\u001b[43mbiological\u001b[49m\u001b[43m)\u001b[49m)\n\u001b[0;32m     13\u001b[0m \u001b[38;5;28;01mexcept\u001b[39;00m json\u001b[38;5;241m.\u001b[39mJSONDecodeError \u001b[38;5;28;01mas\u001b[39;00m e:\n\u001b[0;32m     14\u001b[0m     \u001b[38;5;28mprint\u001b[39m(\u001b[38;5;124mf\u001b[39m\u001b[38;5;124m'\u001b[39m\u001b[38;5;124mError decoding JSON: \u001b[39m\u001b[38;5;132;01m{\u001b[39;00me\u001b[38;5;132;01m}\u001b[39;00m\u001b[38;5;124m'\u001b[39m)\n",
      "File \u001b[1;32mc:\\Users\\Leonl\\Documents\\code projects\\EliteThingy2.0\\app\\biological.py:75\u001b[0m, in \u001b[0;36mjsonBiological.__init__\u001b[1;34m(self, jsonDict)\u001b[0m\n\u001b[0;32m     72\u001b[0m \u001b[38;5;28mself\u001b[39m\u001b[38;5;241m.\u001b[39msubType \u001b[38;5;241m=\u001b[39m jsonDict[\u001b[38;5;124m\"\u001b[39m\u001b[38;5;124mSubType\u001b[39m\u001b[38;5;124m\"\u001b[39m]\n\u001b[0;32m     73\u001b[0m \u001b[38;5;28mself\u001b[39m\u001b[38;5;241m.\u001b[39mvalue \u001b[38;5;241m=\u001b[39m jsonDict[\u001b[38;5;124m\"\u001b[39m\u001b[38;5;124mValue\u001b[39m\u001b[38;5;124m\"\u001b[39m]\n\u001b[1;32m---> 75\u001b[0m \u001b[38;5;28mself\u001b[39m\u001b[38;5;241m.\u001b[39mstarclasses \u001b[38;5;241m=\u001b[39m [\u001b[43mStarclass\u001b[49m\u001b[43m[\u001b[49m\u001b[43mname\u001b[49m\u001b[43m]\u001b[49m \u001b[38;5;28;01mfor\u001b[39;00m name \u001b[38;5;129;01min\u001b[39;00m jsonDict[\u001b[38;5;124m\"\u001b[39m\u001b[38;5;124mStarClasses\u001b[39m\u001b[38;5;124m\"\u001b[39m]]\n\u001b[0;32m     76\u001b[0m \u001b[38;5;28mself\u001b[39m\u001b[38;5;241m.\u001b[39mplanetTypes \u001b[38;5;241m=\u001b[39m [PlanetType[name] \u001b[38;5;28;01mfor\u001b[39;00m name \u001b[38;5;129;01min\u001b[39;00m jsonDict[\u001b[38;5;124m\"\u001b[39m\u001b[38;5;124mPlanetTypes\u001b[39m\u001b[38;5;124m\"\u001b[39m]]\n\u001b[0;32m     77\u001b[0m \u001b[38;5;28mself\u001b[39m\u001b[38;5;241m.\u001b[39matmossphericCompositions \u001b[38;5;241m=\u001b[39m [AtmossphericComposition[name] \u001b[38;5;28;01mfor\u001b[39;00m name \u001b[38;5;129;01min\u001b[39;00m jsonDict[\u001b[38;5;124m\"\u001b[39m\u001b[38;5;124mAtmosComps\u001b[39m\u001b[38;5;124m\"\u001b[39m]]\n",
      "File \u001b[1;32mc:\\Program Files\\Python313\\Lib\\enum.py:782\u001b[0m, in \u001b[0;36mEnumType.__getitem__\u001b[1;34m(cls, name)\u001b[0m\n\u001b[0;32m    778\u001b[0m \u001b[38;5;28;01mdef\u001b[39;00m \u001b[38;5;21m__getitem__\u001b[39m(\u001b[38;5;28mcls\u001b[39m, name):\n\u001b[0;32m    779\u001b[0m \u001b[38;5;250m    \u001b[39m\u001b[38;5;124;03m\"\"\"\u001b[39;00m\n\u001b[0;32m    780\u001b[0m \u001b[38;5;124;03m    Return the member matching `name`.\u001b[39;00m\n\u001b[0;32m    781\u001b[0m \u001b[38;5;124;03m    \"\"\"\u001b[39;00m\n\u001b[1;32m--> 782\u001b[0m     \u001b[38;5;28;01mreturn\u001b[39;00m \u001b[38;5;28;43mcls\u001b[39;49m\u001b[38;5;241;43m.\u001b[39;49m\u001b[43m_member_map_\u001b[49m\u001b[43m[\u001b[49m\u001b[43mname\u001b[49m\u001b[43m]\u001b[49m\n",
      "\u001b[1;31mKeyError\u001b[0m: 'Ae'"
     ]
    }
   ],
   "source": [
    "from input import Input\n",
    "from body import Body\n",
    "from enums import Starclass, PlanetType, AtmossphericComposition, VolcanismType, BioType\n",
    "from main import get_least_valuable_biologicals, get_most_valuable_biologicals, get_most_likely_biologicals\n",
    "\n",
    "#### Fill out ####\n",
    "filePath = \"biologicals\"\n",
    "\n",
    "# Not needed for algorithm\n",
    "name = ''\n",
    "id = 0\n",
    "systemName = ''\n",
    "systemId = 0\n",
    "\n",
    "# Actually matters\n",
    "bioCount = 5\n",
    "starclass = Starclass.A\n",
    "planetType = PlanetType.Rock\n",
    "atmossphericComposition = AtmossphericComposition.NH3\n",
    "volcamismType = VolcanismType.none # doesn't work as intended just yet\n",
    "atmossphericPressure = 0.01\n",
    "gravity = 0.1\n",
    "minTemp = 50\n",
    "maxTemp = 200\n",
    "\n",
    "body_to_check = Body(name, id, systemName, systemId, bioCount, starclass, planetType, atmossphericComposition, volcamismType, atmossphericPressure, gravity, minTemp, maxTemp)\n",
    "\n",
    "#### Leave alone ####\n",
    "\n",
    "all_bio = Input.read_biologicals(filePath) # list[Biological]\n",
    "\n",
    "\n",
    "most_value = get_most_valuable_biologicals(body_to_check, all_bio)\n",
    "least_value = get_least_valuable_biologicals(body_to_check, all_bio)\n",
    "most_likely = get_most_likely_biologicals(body_to_check, all_bio)"
   ]
  },
  {
   "cell_type": "markdown",
   "metadata": {},
   "source": [
    "# Most Valuable"
   ]
  },
  {
   "cell_type": "code",
   "execution_count": 8,
   "metadata": {},
   "outputs": [
    {
     "name": "stdout",
     "output_type": "stream",
     "text": [
      "Fonticulua Fluctus at a value of: 20000000\n",
      "Bacterium Alcyoneum at a value of: 10\n",
      "\n",
      "for a total value of 20000010\n"
     ]
    }
   ],
   "source": [
    "running_total = 0\n",
    "counter = body_to_check.biologicalCount\n",
    "for bio in most_value:\n",
    "    if counter > 0:\n",
    "        running_total += bio.value\n",
    "    counter -= 1\n",
    "    print(f'{bio.mainType._name_} {bio.subType} at a value of: {bio.value}')\n",
    "print()\n",
    "print(f'for a total value of {running_total}')"
   ]
  },
  {
   "cell_type": "markdown",
   "metadata": {},
   "source": [
    "# Least Valuable"
   ]
  },
  {
   "cell_type": "code",
   "execution_count": 9,
   "metadata": {},
   "outputs": [
    {
     "name": "stdout",
     "output_type": "stream",
     "text": [
      "Bacterium Alcyoneum at a value of: 10\n",
      "Fonticulua Campestris at a value of: 1000000\n",
      "\n",
      "for a total value of 1000010\n"
     ]
    }
   ],
   "source": [
    "running_total = 0\n",
    "counter = body_to_check.biologicalCount\n",
    "for bio in least_value:\n",
    "    if counter > 0:\n",
    "        running_total += bio.value\n",
    "    counter -= 1\n",
    "    print(f'{bio.mainType._name_} {bio.subType} at a value of: {bio.value}')\n",
    "print()\n",
    "print(f'for a total value of {running_total}')"
   ]
  },
  {
   "cell_type": "markdown",
   "metadata": {},
   "source": [
    "# Most likely\n",
    "Very flawed and unlikely to actually predict the most likely one"
   ]
  },
  {
   "cell_type": "code",
   "execution_count": null,
   "metadata": {},
   "outputs": [],
   "source": [
    "running_total = 0\n",
    "counter = body_to_check.biologicalCount\n",
    "for bio in most_likely:\n",
    "    if counter > 0:\n",
    "        running_total += bio.value\n",
    "    counter -= 1\n",
    "    print(f'{bio.mainType._name_} {bio.subType} at a value of: {bio.value}')\n",
    "print()\n",
    "print(f'for a total value of {running_total}')"
   ]
  }
 ],
 "metadata": {
  "kernelspec": {
   "display_name": "Python 3",
   "language": "python",
   "name": "python3"
  },
  "language_info": {
   "codemirror_mode": {
    "name": "ipython",
    "version": 3
   },
   "file_extension": ".py",
   "mimetype": "text/x-python",
   "name": "python",
   "nbconvert_exporter": "python",
   "pygments_lexer": "ipython3",
   "version": "3.13.0"
  }
 },
 "nbformat": 4,
 "nbformat_minor": 2
}
