{
 "cells": [
  {
   "cell_type": "code",
   "execution_count": null,
   "metadata": {},
   "outputs": [],
   "source": [
    "import ijson\n",
    "firstobj: dict\n",
    "\n",
    "with open('galaxy_1month.json') as f:\n",
    "    firstobj = next(ijson.items(f, 'item'))\n",
    "\n",
    "temp = (firstobj['bodies'][1])\n",
    "temp"
   ]
  },
  {
   "cell_type": "code",
   "execution_count": null,
   "metadata": {},
   "outputs": [],
   "source": [
    "import ijson\n",
    "from collections import defaultdict\n",
    "\n",
    "path = 'galaxy_1month.json'\n",
    "\n",
    "\n",
    "def detect_schema(obj, schema, parent_key=''):\n",
    "    \"\"\"Recursively detects the schema of nested JSON objects.\"\"\"\n",
    "    if isinstance(obj, dict):\n",
    "        for key, value in obj.items():\n",
    "            # Build the full key path (e.g., \"details.address.city\")\n",
    "            full_key = f\"{parent_key}.{key}\" if parent_key else key\n",
    "            detect_schema(value, schema, full_key)  # Recurse into the nested structure\n",
    "    elif isinstance(obj, list) and obj:\n",
    "        # For lists, assume all items in the list have the same structure\n",
    "        detect_schema(obj[0], schema, parent_key)  # Recurse into the first item of the list\n",
    "    else:\n",
    "        # Track the data type of the field (e.g., 'int', 'str')\n",
    "        full_key = parent_key\n",
    "        schema[full_key].add(type(obj).__name__)\n",
    "\n",
    "def analyze_schema(filename, sample_size=100):\n",
    "    \"\"\"Analyze the schema by extracting and recursively detecting the structure.\"\"\"\n",
    "    schema = defaultdict(set)\n",
    "\n",
    "    with open(filename, \"r\", encoding=\"utf-8\") as f:\n",
    "        objects = ijson.items(f, \"item\")  # Stream objects\n",
    "        \n",
    "        for i, obj in enumerate(objects):\n",
    "            detect_schema(obj, schema)  # Detect schema recursively\n",
    "            \n",
    "            if i >= sample_size - 1:  # Stop after processing 'sample_size' objects\n",
    "                break\n",
    "\n",
    "    # Convert defaultdict to a regular dict\n",
    "    return {key: list(types) for key, types in schema.items()}\n",
    "\n",
    "# Analyze the schema\n",
    "schema = analyze_schema(path)\n",
    "schema"
   ]
  },
  {
   "cell_type": "code",
   "execution_count": null,
   "metadata": {},
   "outputs": [],
   "source": [
    "from jsonParsing import process_json\n",
    "\n",
    "process_json('galaxy_1month.json', 'text.txt')"
   ]
  }
 ],
 "metadata": {
  "kernelspec": {
   "display_name": "Python 3",
   "language": "python",
   "name": "python3"
  },
  "language_info": {
   "codemirror_mode": {
    "name": "ipython",
    "version": 3
   },
   "file_extension": ".py",
   "mimetype": "text/x-python",
   "name": "python",
   "nbconvert_exporter": "python",
   "pygments_lexer": "ipython3",
   "version": "3.12.4"
  }
 },
 "nbformat": 4,
 "nbformat_minor": 2
}
